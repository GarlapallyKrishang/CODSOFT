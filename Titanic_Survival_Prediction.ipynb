{
 "cells": [
  {
   "cell_type": "markdown",
   "id": "b04b5cc7",
   "metadata": {},
   "source": [
    "# Titanic Survival Prediction\n",
    "Using Machine Learning (Logistic Regression)"
   ]
  },
  {
   "cell_type": "code",
   "execution_count": null,
   "id": "e453f729",
   "metadata": {},
   "outputs": [],
   "source": [
    "import pandas as pd\n",
    "import numpy as np\n",
    "import matplotlib.pyplot as plt\n",
    "import seaborn as sns\n",
    "\n",
    "from sklearn.model_selection import train_test_split\n",
    "from sklearn.preprocessing import LabelEncoder\n",
    "from sklearn.linear_model import LogisticRegression\n",
    "from sklearn.metrics import accuracy_score, classification_report, confusion_matrix"
   ]
  },
  {
   "cell_type": "code",
   "execution_count": null,
   "id": "d5233d3a",
   "metadata": {},
   "outputs": [],
   "source": [
    "# Load the dataset\n",
    "df = pd.read_csv('titanic.csv')  # Use 'train.csv' if using Kaggle version\n",
    "df.head()"
   ]
  },
  {
   "cell_type": "code",
   "execution_count": null,
   "id": "cf3ccbf2",
   "metadata": {},
   "outputs": [],
   "source": [
    "# Basic information\n",
    "df.info()\n",
    "df.describe()\n",
    "df.isnull().sum()"
   ]
  },
  {
   "cell_type": "code",
   "execution_count": null,
   "id": "33c331bb",
   "metadata": {},
   "outputs": [],
   "source": [
    "# Fill missing values\n",
    "df['Age'].fillna(df['Age'].median(), inplace=True)\n",
    "df['Embarked'].fillna(df['Embarked'].mode()[0], inplace=True)\n",
    "\n",
    "# Drop column with too many missing values\n",
    "df.drop('Cabin', axis=1, inplace=True)"
   ]
  },
  {
   "cell_type": "code",
   "execution_count": null,
   "id": "0474fc84",
   "metadata": {},
   "outputs": [],
   "source": [
    "# Drop irrelevant features\n",
    "df.drop(['Name', 'Ticket', 'PassengerId'], axis=1, inplace=True)\n",
    "\n",
    "# Encode categorical variables\n",
    "le = LabelEncoder()\n",
    "df['Sex'] = le.fit_transform(df['Sex'])  # Male=1, Female=0\n",
    "df['Embarked'] = le.fit_transform(df['Embarked'])  # C=0, Q=1, S=2"
   ]
  },
  {
   "cell_type": "code",
   "execution_count": null,
   "id": "23ed10c9",
   "metadata": {},
   "outputs": [],
   "source": [
    "# Define features and label\n",
    "X = df.drop('Survived', axis=1)\n",
    "y = df['Survived']\n",
    "\n",
    "# Train-test split\n",
    "X_train, X_test, y_train, y_test = train_test_split(X, y, test_size=0.2, random_state=42)"
   ]
  },
  {
   "cell_type": "code",
   "execution_count": null,
   "id": "d896c96b",
   "metadata": {},
   "outputs": [],
   "source": [
    "# Train logistic regression model\n",
    "model = LogisticRegression(max_iter=200)\n",
    "model.fit(X_train, y_train)"
   ]
  },
  {
   "cell_type": "code",
   "execution_count": null,
   "id": "7034e24a",
   "metadata": {},
   "outputs": [],
   "source": [
    "# Predict and evaluate\n",
    "y_pred = model.predict(X_test)\n",
    "\n",
    "print(\"Accuracy:\", accuracy_score(y_test, y_pred))\n",
    "print(\"Confusion Matrix:\\n\", confusion_matrix(y_test, y_pred))\n",
    "print(\"Classification Report:\\n\", classification_report(y_test, y_pred))"
   ]
  },
  {
   "cell_type": "code",
   "execution_count": null,
   "id": "e73f794a",
   "metadata": {},
   "outputs": [],
   "source": [
    "# Sample prediction\n",
    "# Format: [Pclass, Sex, Age, SibSp, Parch, Fare, Embarked]\n",
    "sample = [[3, 0, 25, 0, 0, 7.25, 2]]\n",
    "result = model.predict(sample)[0]\n",
    "print(\"Survived\" if result == 1 else \"Did not survive\")"
   ]
  },
  {
   "cell_type": "code",
   "execution_count": null,
   "id": "4fc0fb78",
   "metadata": {},
   "outputs": [],
   "source": [
    "# Visualizations\n",
    "sns.countplot(x='Survived', data=df)\n",
    "plt.title(\"Survival Count\")\n",
    "plt.show()\n",
    "\n",
    "sns.heatmap(df.corr(), annot=True, cmap='coolwarm')\n",
    "plt.title(\"Correlation Matrix\")\n",
    "plt.show()"
   ]
  }
 ],
 "metadata": {},
 "nbformat": 4,
 "nbformat_minor": 5
}
